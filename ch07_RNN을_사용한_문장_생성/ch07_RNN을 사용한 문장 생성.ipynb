{
 "cells": [
  {
   "cell_type": "markdown",
   "metadata": {},
   "source": [
    "# 언어 모델을 사용한 문장 생성\n",
    "\n",
    "기계 번역, 음성 인식, 문장 생성"
   ]
  },
  {
   "cell_type": "markdown",
   "metadata": {},
   "source": [
    "## RNN을 사용한 문장 생성의 순서\n",
    "\n",
    "<center> you say goodbye and \"I\" say hello.    </center> \n",
    "<center>    *** I에 대한 확률분포 *** </center>\n",
    "    \n",
    "<img src = \"../imgs/fig 7-2.png\" width = \"200\">\n",
    "    \n",
    "#### HOW TO 생성, I 다음의 단어?\n",
    "\n",
    "1. 확률이 가장 높은 단어를 선택한다 \n",
    "    - Deterministic 한 결과\n",
    "    - 결과가 바뀌지 않음\n",
    "    - `say` 라는 단어 선택됨. 고정 불변.\n",
    "\n",
    "2. 결과를 확률에 따라 다르게\n",
    "    - 높은 단어가 선택되기 쉽고 낮은 단어는 선택되기 어려워짐\n",
    "    - `say` 라는 단어가 선택되기 쉬워짐.\n",
    "\n",
    "<img src = \"../imgs/fig 7-4.png\" width = \"400\">\n",
    "\n",
    "- 반복..반복.. until 원하는 만큼 혹은 `<eos>` 와 같은 종결 기호가 나올 때까지\n"
   ]
  },
  {
   "cell_type": "markdown",
   "metadata": {},
   "source": [
    "## 문장 생성 구현"
   ]
  },
  {
   "cell_type": "code",
   "execution_count": 3,
   "metadata": {},
   "outputs": [
    {
     "ename": "ModuleNotFoundError",
     "evalue": "No module named 'ch06_게이트가_추가된_RNN'",
     "output_type": "error",
     "traceback": [
      "\u001b[0;31m---------------------------------------------------------------------------\u001b[0m",
      "\u001b[0;31mModuleNotFoundError\u001b[0m                       Traceback (most recent call last)",
      "\u001b[0;32m<ipython-input-3-cdff1d3101cd>\u001b[0m in \u001b[0;36m<module>\u001b[0;34m\u001b[0m\n\u001b[1;32m      3\u001b[0m \u001b[0;32mimport\u001b[0m \u001b[0mnumpy\u001b[0m \u001b[0;32mas\u001b[0m \u001b[0mnp\u001b[0m\u001b[0;34m\u001b[0m\u001b[0;34m\u001b[0m\u001b[0m\n\u001b[1;32m      4\u001b[0m \u001b[0;32mfrom\u001b[0m \u001b[0mcommon\u001b[0m\u001b[0;34m.\u001b[0m\u001b[0mfunctions\u001b[0m \u001b[0;32mimport\u001b[0m \u001b[0msoftmax\u001b[0m\u001b[0;34m\u001b[0m\u001b[0;34m\u001b[0m\u001b[0m\n\u001b[0;32m----> 5\u001b[0;31m \u001b[0;32mfrom\u001b[0m \u001b[0mch06_게이트가_추가된_RNN\u001b[0m\u001b[0;34m.\u001b[0m\u001b[0mrnnlm\u001b[0m \u001b[0;32mimport\u001b[0m \u001b[0mRnnlm\u001b[0m\u001b[0;34m\u001b[0m\u001b[0;34m\u001b[0m\u001b[0m\n\u001b[0m\u001b[1;32m      6\u001b[0m \u001b[0;32mfrom\u001b[0m \u001b[0mch06_게이트가_추가된_RNN\u001b[0m\u001b[0;34m.\u001b[0m\u001b[0mbetter_rnnlm\u001b[0m \u001b[0;32mimport\u001b[0m \u001b[0mBetterRnnlm\u001b[0m\u001b[0;34m\u001b[0m\u001b[0;34m\u001b[0m\u001b[0m\n",
      "\u001b[0;31mModuleNotFoundError\u001b[0m: No module named 'ch06_게이트가_추가된_RNN'"
     ]
    }
   ],
   "source": [
    "import sys \n",
    "sys.path.append(\"..\")\n",
    "import numpy as np\n",
    "from common.functions import softmax\n",
    "from ch06_게이트가_추가된_RNN.rnnlm import Rnnlm\n",
    "from ch06_게이트가_추가된_RNN.better_rnnlm import BetterRnnlm"
   ]
  },
  {
   "cell_type": "code",
   "execution_count": null,
   "metadata": {},
   "outputs": [],
   "source": []
  },
  {
   "cell_type": "code",
   "execution_count": null,
   "metadata": {},
   "outputs": [],
   "source": []
  },
  {
   "cell_type": "code",
   "execution_count": null,
   "metadata": {},
   "outputs": [],
   "source": []
  },
  {
   "cell_type": "code",
   "execution_count": null,
   "metadata": {},
   "outputs": [],
   "source": []
  },
  {
   "cell_type": "code",
   "execution_count": null,
   "metadata": {},
   "outputs": [],
   "source": []
  },
  {
   "cell_type": "code",
   "execution_count": null,
   "metadata": {},
   "outputs": [],
   "source": []
  },
  {
   "cell_type": "code",
   "execution_count": null,
   "metadata": {},
   "outputs": [],
   "source": []
  },
  {
   "cell_type": "code",
   "execution_count": null,
   "metadata": {},
   "outputs": [],
   "source": []
  },
  {
   "cell_type": "code",
   "execution_count": null,
   "metadata": {},
   "outputs": [],
   "source": []
  }
 ],
 "metadata": {
  "kernelspec": {
   "display_name": "Python 3",
   "language": "python",
   "name": "python3"
  },
  "language_info": {
   "codemirror_mode": {
    "name": "ipython",
    "version": 3
   },
   "file_extension": ".py",
   "mimetype": "text/x-python",
   "name": "python",
   "nbconvert_exporter": "python",
   "pygments_lexer": "ipython3",
   "version": "3.7.4"
  },
  "toc-autonumbering": true
 },
 "nbformat": 4,
 "nbformat_minor": 4
}
