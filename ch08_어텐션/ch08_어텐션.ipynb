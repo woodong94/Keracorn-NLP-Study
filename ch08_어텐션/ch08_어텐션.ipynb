{
 "cells": [
  {
   "cell_type": "markdown",
   "metadata": {},
   "source": [
    "# 어텐션의 구조\n",
    "\n",
    "- seq2seq를 한층 더 강력하게 하는 **어텐션 매커니즘**\n",
    "- 인간처럼 필요한 정보에만 \"주목\"할 수 있게 만든다\n",
    "- seq2seq의 근본적인 문제를 해결한다"
   ]
  },
  {
   "cell_type": "markdown",
   "metadata": {},
   "source": [
    "## seq2seq의 문제점\n",
    "\n",
    "- Encoder의 출력은 \"고정 길이의 벡터\"\n",
    "    - 고정 길이 벡터는 입력 문장의 길이에 관계없이 항상 같은 길이의 벡터로 변환하게 해준다\n",
    "    - **아무리 긴 벡터여도 고정 길이에 우겨넣어짐**\n",
    "\n",
    "<img src = \"../imgs/fig 8-1.png\" width=\"400\">"
   ]
  },
  {
   "cell_type": "markdown",
   "metadata": {},
   "source": [
    "## Encoder 개선\n",
    "\n",
    "- Encoder 출력의 길이는 입력 문장에 길이에 따라 바꿔주는 것이 좋다! (당연)\n",
    "- 구체적으로는, **시각별 LSTM 계층의 은닉 상태 벡터를 모두 이용하는 것**\n",
    "\n",
    "<img src = \"../imgs/fig 8-2.png\" width=\"500\">\n",
    "\n",
    "\n",
    "#### <center>===> 이것으로 Encoder는 \"하나의 고정 길이 벡터\"라는 제약에서 벗어남</center>\n",
    "\n",
    "- (참고) RNN 계층을 초기화할 때 두 가지 반환 중 선택 가능\n",
    "    - 모든 시각의 은닉 상태 벡터 반환 \n",
    "        - [keras] `return_sequences=True`\n",
    "    - 마지막 은닉 상태 벡터만 반환\n",
    "    \n",
    "    \n",
    "- 각 시각의 은닉 상태에는 직전에 입력된 단어에 대한 정보가 많이 포함되어 있다.\n",
    "    - 예를 들어 `나` `는` `고양이` `로소` `이다` 에서 `고양이` 벡터에는 `나` `는` `고양이` 의 정보가 담겨 있다\n",
    "    - 주변 정보를 균형있게 담기 위해서는 **양방향 RNN** 이 효과적임"
   ]
  },
  {
   "cell_type": "code",
   "execution_count": null,
   "metadata": {},
   "outputs": [],
   "source": []
  },
  {
   "cell_type": "code",
   "execution_count": null,
   "metadata": {},
   "outputs": [],
   "source": []
  },
  {
   "cell_type": "code",
   "execution_count": null,
   "metadata": {},
   "outputs": [],
   "source": []
  },
  {
   "cell_type": "code",
   "execution_count": null,
   "metadata": {},
   "outputs": [],
   "source": []
  },
  {
   "cell_type": "code",
   "execution_count": null,
   "metadata": {},
   "outputs": [],
   "source": []
  },
  {
   "cell_type": "code",
   "execution_count": null,
   "metadata": {},
   "outputs": [],
   "source": []
  },
  {
   "cell_type": "code",
   "execution_count": null,
   "metadata": {},
   "outputs": [],
   "source": []
  },
  {
   "cell_type": "code",
   "execution_count": null,
   "metadata": {},
   "outputs": [],
   "source": []
  },
  {
   "cell_type": "code",
   "execution_count": null,
   "metadata": {},
   "outputs": [],
   "source": []
  },
  {
   "cell_type": "code",
   "execution_count": null,
   "metadata": {},
   "outputs": [],
   "source": []
  },
  {
   "cell_type": "code",
   "execution_count": null,
   "metadata": {},
   "outputs": [],
   "source": []
  }
 ],
 "metadata": {
  "kernelspec": {
   "display_name": "Python 3",
   "language": "python",
   "name": "python3"
  },
  "language_info": {
   "codemirror_mode": {
    "name": "ipython",
    "version": 3
   },
   "file_extension": ".py",
   "mimetype": "text/x-python",
   "name": "python",
   "nbconvert_exporter": "python",
   "pygments_lexer": "ipython3",
   "version": "3.7.4"
  }
 },
 "nbformat": 4,
 "nbformat_minor": 4
}
