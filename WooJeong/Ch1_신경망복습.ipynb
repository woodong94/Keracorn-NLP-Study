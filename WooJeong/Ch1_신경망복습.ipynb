{
 "cells": [
  {
   "cell_type": "markdown",
   "metadata": {},
   "source": [
    "# Chapter 1. 신경망 복습"
   ]
  },
  {
   "cell_type": "markdown",
   "metadata": {},
   "source": [
    "## 수학과 파이썬 복습"
   ]
  },
  {
   "cell_type": "code",
   "execution_count": 1,
   "metadata": {
    "ExecuteTime": {
     "end_time": "2019-12-15T16:07:24.855900Z",
     "start_time": "2019-12-15T16:07:24.687068Z"
    }
   },
   "outputs": [],
   "source": [
    "import numpy as np"
   ]
  },
  {
   "cell_type": "code",
   "execution_count": 25,
   "metadata": {
    "ExecuteTime": {
     "end_time": "2019-12-15T16:16:00.844053Z",
     "start_time": "2019-12-15T16:16:00.837795Z"
    }
   },
   "outputs": [
    {
     "name": "stdout",
     "output_type": "stream",
     "text": [
      "<class 'numpy.ndarray'>\n",
      "(3,)\n",
      "1\n",
      "\n",
      "(2, 3)\n",
      "2\n"
     ]
    }
   ],
   "source": [
    "# 벡터와 행렬\n",
    "x = np.array([1,2,3])\n",
    "print(x.__class__) # 클래스 이름 \n",
    "print(x.shape) # 원소 수가 3개 벡터\n",
    "print(x.ndim) # 1차원 배열\n",
    "print()\n",
    "W = np.array([[1,2,3],[4,5,6]])\n",
    "print(W.shape) # 2X3 행렬\n",
    "print(W.ndim) # 2차원 배열"
   ]
  },
  {
   "cell_type": "code",
   "execution_count": 20,
   "metadata": {
    "ExecuteTime": {
     "end_time": "2019-12-15T16:14:26.005703Z",
     "start_time": "2019-12-15T16:14:25.984400Z"
    }
   },
   "outputs": [
    {
     "data": {
      "text/plain": [
       "array([[ 1,  3,  5],\n",
       "       [ 7,  9, 11]])"
      ]
     },
     "metadata": {},
     "output_type": "display_data"
    },
    {
     "data": {
      "text/plain": [
       "array([[ 0,  2,  6],\n",
       "       [12, 20, 30]])"
      ]
     },
     "metadata": {},
     "output_type": "display_data"
    }
   ],
   "source": [
    "# 행렬의 원소별 연산\n",
    "W = np.array([[1,2,3],[4,5,6]])\n",
    "X = np.array([[0,1,2],[3,4,5]])\n",
    "display(W+X)\n",
    "display(W*X) "
   ]
  },
  {
   "cell_type": "markdown",
   "metadata": {},
   "source": [
    "numpy 연산 ; 원소 별로 연산이 이루어짐. 행과 열 개수 맞지 않아도 okay."
   ]
  },
  {
   "cell_type": "code",
   "execution_count": 22,
   "metadata": {
    "ExecuteTime": {
     "end_time": "2019-12-15T16:15:49.044508Z",
     "start_time": "2019-12-15T16:15:49.035709Z"
    }
   },
   "outputs": [
    {
     "data": {
      "text/plain": [
       "array([[10, 20],\n",
       "       [30, 40]])"
      ]
     },
     "metadata": {},
     "output_type": "display_data"
    },
    {
     "data": {
      "text/plain": [
       "array([[10, 40],\n",
       "       [30, 80]])"
      ]
     },
     "metadata": {},
     "output_type": "display_data"
    }
   ],
   "source": [
    "# 브로드캐스트\n",
    "A = np.array([[1,2],[3,4]])\n",
    "display(A*10) \n",
    "\n",
    "A = np.array([[1,2],[3,4]])\n",
    "b = np.array([10,20])\n",
    "display(A*b) "
   ]
  },
  {
   "cell_type": "markdown",
   "metadata": {},
   "source": [
    "1. 벡터와 스칼라 간의 연산이 가능하다.\n",
    "2. 1차원과 2차원 간의 연산이 가능하다."
   ]
  },
  {
   "cell_type": "code",
   "execution_count": 27,
   "metadata": {
    "ExecuteTime": {
     "end_time": "2019-12-15T16:21:54.458835Z",
     "start_time": "2019-12-15T16:21:54.445953Z"
    }
   },
   "outputs": [
    {
     "data": {
      "text/plain": [
       "32"
      ]
     },
     "metadata": {},
     "output_type": "display_data"
    },
    {
     "data": {
      "text/plain": [
       "array([[19, 22],\n",
       "       [43, 50]])"
      ]
     },
     "metadata": {},
     "output_type": "display_data"
    },
    {
     "data": {
      "text/plain": [
       "array([[19, 22],\n",
       "       [43, 50]])"
      ]
     },
     "metadata": {},
     "output_type": "display_data"
    }
   ],
   "source": [
    "# 벡터의 내적과 행렬의 곱\n",
    "\n",
    "# 벡터의 내적\n",
    "a = np.array([1,2,3])\n",
    "b = np.array([4,5,6])\n",
    "display(np.dot(a,b)) # dot product\n",
    "\n",
    "# 행렬의 곱\n",
    "A = np.array([[1,2],[3,4]])\n",
    "B = np.array([[5,6],[7,8]])\n",
    "display(np.dot(A,B))\n",
    "display(np.matmul(A,B)) # matrix multiply"
   ]
  },
  {
   "cell_type": "markdown",
   "metadata": {},
   "source": [
    "np.dot은 1차원 배열이면 벡터 내적 계산, 2차원 배열이면 행렬의 곱을 계산한다. 즉, np.matmul의 기능도 있음. \n",
    "\n",
    "하지만 **코드의 논리와 의도를 명확히 하기 위해 둘을 분리** 해주는 것이 좋음"
   ]
  },
  {
   "cell_type": "markdown",
   "metadata": {},
   "source": [
    "`numpy 연습해보기`\n",
    "\n",
    "- http://www.labri.fr/perso/nrougier/from-python-to-numpy\n",
    "- https://github.com/rougier/nu%E3%85%81mpy-100"
   ]
  },
  {
   "cell_type": "markdown",
   "metadata": {},
   "source": [
    "## 신경망의 추론"
   ]
  },
  {
   "cell_type": "code",
   "execution_count": 36,
   "metadata": {
    "ExecuteTime": {
     "end_time": "2019-12-15T16:48:07.225472Z",
     "start_time": "2019-12-15T16:48:07.212688Z"
    }
   },
   "outputs": [
    {
     "data": {
      "text/plain": [
       "(10, 2)"
      ]
     },
     "metadata": {},
     "output_type": "display_data"
    },
    {
     "data": {
      "text/plain": [
       "(10, 4)"
      ]
     },
     "metadata": {},
     "output_type": "display_data"
    },
    {
     "data": {
      "text/plain": [
       "(10, 3)"
      ]
     },
     "metadata": {},
     "output_type": "display_data"
    }
   ],
   "source": [
    "def sigmoid(x): # 활성화 함수\n",
    "    return 1/(1 + np.exp(-x))\n",
    "\n",
    "x = np.random.randn(10,2) # 입력. 10개의 샘플데이터.\n",
    "display(x.shape)\n",
    "W1 =np.random.randn(2,4) # 가중치 # 4개\n",
    "b1 = np.random.randn(4) # 편향\n",
    "W2 =np.random.randn(4,3) # 가중치\n",
    "b2 = np.random.randn(3) # 편향\n",
    "\n",
    "h = np.matmul(x,W1) + b1\n",
    "display(h.shape)\n",
    "a = sigmoid(h)\n",
    "s = np.matmul(a,W2) + b2\n",
    "display(s.shape)"
   ]
  },
  {
   "cell_type": "markdown",
   "metadata": {},
   "source": [
    "x의 형상은 (10,2). 이는 2차원 데이터 10개가 미니배치로 처리된다는 뜻이다. 그리고 최종 출력인 s의 shape는 (10,3)이 된다. 이것은 10개의 데이터가 한꺼번에 처리되었고, 각 데이터는 3차원으로 변환되었다는 것을 의미한다. 3차원 데이터의 값을 이용한다면 3 클래스 분류를 할 수 있다. 각 차원은 각 클래스에 해당하는 점수가 되며 가장 큰 값이 분류 예측 결과가 되는 것이다.\n",
    "\n",
    "* `x[0]`은 0번째 입력 데이터, `x[1]`은 1번째 입력 데이터, `h[0]`은 0번째 데이터의 은닉층 뉴런, `h[1]`은 1번째 데이터의 은닉층 뉴런.\n",
    "\n",
    "* 활성화 함수인 시그모이드 함수는 선형함수를 비선형 함수로 변환해서 출력해줌"
   ]
  },
  {
   "cell_type": "code",
   "execution_count": null,
   "metadata": {},
   "outputs": [],
   "source": []
  },
  {
   "cell_type": "code",
   "execution_count": null,
   "metadata": {},
   "outputs": [],
   "source": []
  },
  {
   "cell_type": "code",
   "execution_count": null,
   "metadata": {},
   "outputs": [],
   "source": []
  },
  {
   "cell_type": "code",
   "execution_count": null,
   "metadata": {},
   "outputs": [],
   "source": []
  },
  {
   "cell_type": "code",
   "execution_count": null,
   "metadata": {},
   "outputs": [],
   "source": []
  },
  {
   "cell_type": "code",
   "execution_count": null,
   "metadata": {},
   "outputs": [],
   "source": []
  },
  {
   "cell_type": "code",
   "execution_count": null,
   "metadata": {},
   "outputs": [],
   "source": []
  },
  {
   "cell_type": "code",
   "execution_count": null,
   "metadata": {},
   "outputs": [],
   "source": []
  }
 ],
 "metadata": {
  "kernelspec": {
   "display_name": "Python 3",
   "language": "python",
   "name": "python3"
  },
  "language_info": {
   "codemirror_mode": {
    "name": "ipython",
    "version": 3
   },
   "file_extension": ".py",
   "mimetype": "text/x-python",
   "name": "python",
   "nbconvert_exporter": "python",
   "pygments_lexer": "ipython3",
   "version": "3.7.4"
  },
  "toc": {
   "base_numbering": 1,
   "nav_menu": {},
   "number_sections": true,
   "sideBar": true,
   "skip_h1_title": false,
   "title_cell": "Table of Contents",
   "title_sidebar": "Contents",
   "toc_cell": false,
   "toc_position": {},
   "toc_section_display": true,
   "toc_window_display": false
  }
 },
 "nbformat": 4,
 "nbformat_minor": 2
}
