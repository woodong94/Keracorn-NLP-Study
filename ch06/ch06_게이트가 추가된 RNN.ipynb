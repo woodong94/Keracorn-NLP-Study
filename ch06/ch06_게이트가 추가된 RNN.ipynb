{
 "cells": [
  {
   "cell_type": "markdown",
   "metadata": {},
   "source": [
    "5장의 RNN은 과거의 정보를 기억할 수 있었지만 성능이 좋지 못하다.   \n",
    "주된 원인은 시계열 데이터에서 시간적으로 멀리 떨어진 장기 의존 관계를 잘 학습할 수 없다는 것.  통칭 `Long Term Dependency Problem`! \n",
    "\n",
    "이번 장에서는 `LSTM`이나 `GRU`와 같은 게이트가 추가된 RNN을 알아보자."
   ]
  },
  {
   "cell_type": "markdown",
   "metadata": {},
   "source": [
    "# RNN의 문제점\n",
    "\n",
    "RNN은 시계열 데이터의 장기 의존 관계를 학습하지 못한다.    \n",
    "그 원인은 BPTT<sup>Backpropagation Through Time</sup>에서 기울기 소실 `Gradient Vanishing` 혹은 기울기 폭발 `Gradient Exploding` 이 일어나기 때문!\n",
    "\n",
    "wowwow"
   ]
  },
  {
   "cell_type": "code",
   "execution_count": null,
   "metadata": {},
   "outputs": [],
   "source": [
    "## RNN 복습"
   ]
  }
 ],
 "metadata": {
  "kernelspec": {
   "display_name": "Python 3",
   "language": "python",
   "name": "python3"
  },
  "language_info": {
   "codemirror_mode": {
    "name": "ipython",
    "version": 3
   },
   "file_extension": ".py",
   "mimetype": "text/x-python",
   "name": "python",
   "nbconvert_exporter": "python",
   "pygments_lexer": "ipython3",
   "version": "3.7.4"
  }
 },
 "nbformat": 4,
 "nbformat_minor": 4
}
